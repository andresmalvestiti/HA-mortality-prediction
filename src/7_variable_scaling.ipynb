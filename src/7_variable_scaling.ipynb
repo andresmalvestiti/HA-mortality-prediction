{
 "cells": [
  {
   "cell_type": "code",
   "execution_count": 11,
   "metadata": {},
   "outputs": [],
   "source": [
    "import numpy as np\n",
    "import pandas as pd"
   ]
  },
  {
   "cell_type": "code",
   "execution_count": 12,
   "metadata": {},
   "outputs": [],
   "source": [
    "X_train = pd.read_csv('../data-new/train/X_train_imputed.csv')\n",
    "y_train = pd.read_csv('../data-new/train/y_train.csv')\n",
    "X_val = pd.read_csv('../data-new/val/X_val_imputed.csv')\n",
    "y_val = pd.read_csv('../data-new/val/y_val.csv')\n",
    "X_test = pd.read_csv('../data-new/test/X_test_imputed.csv')\n",
    "y_test = pd.read_csv('../data-new/test/y_test.csv')"
   ]
  },
  {
   "cell_type": "code",
   "execution_count": 2,
   "metadata": {},
   "outputs": [],
   "source": [
    "FEATURES = ['I RENAL AGUDA', 'NUMERO VASOS', 'SANGRADO MAYOR*', 'FUNCION VENTRICULAR IZQ', 'CRM', 'CREAT', 'KILLIP Ingreso', 'GB', 'Peor KILLIP', 'INOTROPICOS', 'TAS INGRESO', 'GLUCEMIA INGR']\n",
    "\n",
    "NUMERICAL_FEATURES = ['CREAT', 'TAS INGRESO', 'GB', 'GLUCEMIA INGR']\n",
    "\n",
    "CATEGORICAL_MULTI_CLASS_FEATURES = ['NUMERO VASOS', 'FUNCION VENTRICULAR IZQ', 'KILLIP Ingreso', 'Peor KILLIP', ]\n",
    "CATEGORICAL_BINARY_FEATURES = ['I RENAL AGUDA', 'SANGRADO MAYOR*', 'CRM',  'INOTROPICOS',]\n",
    "\n",
    "CATEGORY_FEATURES = CATEGORICAL_BINARY_FEATURES + CATEGORICAL_MULTI_CLASS_FEATURES\n",
    "\n",
    "TARGET = \"MUERTE HOSP\""
   ]
  },
  {
   "cell_type": "code",
   "execution_count": 5,
   "metadata": {},
   "outputs": [
    {
     "data": {
      "text/plain": [
       "12"
      ]
     },
     "execution_count": 5,
     "metadata": {},
     "output_type": "execute_result"
    }
   ],
   "source": [
    "len(FEATURES)"
   ]
  },
  {
   "cell_type": "markdown",
   "metadata": {},
   "source": [
    "Realizamos un escalado de las variables numéricas"
   ]
  },
  {
   "cell_type": "code",
   "execution_count": 14,
   "metadata": {},
   "outputs": [],
   "source": [
    "from sklearn.preprocessing import StandardScaler\n",
    "\n",
    "scaler = StandardScaler()\n",
    "\n",
    "X_train[NUMERICAL_FEATURES] = scaler.fit_transform(X_train[NUMERICAL_FEATURES])\n",
    "X_val[NUMERICAL_FEATURES] = scaler.transform(X_val[NUMERICAL_FEATURES])\n",
    "X_test[NUMERICAL_FEATURES] = scaler.transform(X_test[NUMERICAL_FEATURES])"
   ]
  },
  {
   "cell_type": "code",
   "execution_count": 10,
   "metadata": {},
   "outputs": [],
   "source": [
    "X_train.to_csv('../data-new/train/X_train_scaled.csv', index=False)\n",
    "X_val.to_csv('../data-new/val/X_val_scaled.csv', index=False)\n",
    "X_test.to_csv('../data-new/test/X_test_scaled.csv', index=False)"
   ]
  }
 ],
 "metadata": {
  "kernelspec": {
   "display_name": "venv",
   "language": "python",
   "name": "python3"
  },
  "language_info": {
   "codemirror_mode": {
    "name": "ipython",
    "version": 3
   },
   "file_extension": ".py",
   "mimetype": "text/x-python",
   "name": "python",
   "nbconvert_exporter": "python",
   "pygments_lexer": "ipython3",
   "version": "3.11.5"
  }
 },
 "nbformat": 4,
 "nbformat_minor": 2
}
