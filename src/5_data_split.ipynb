{
 "cells": [
  {
   "cell_type": "markdown",
   "metadata": {},
   "source": [
    "# Data split\n",
    "En esta sección vamos a hacer el split en train y test para nuestros futuros experimentos. El resultado van a ser 6 archivos. Dos archivos para train, dos para validacion y dos para test con X e y."
   ]
  },
  {
   "cell_type": "code",
   "execution_count": 1,
   "metadata": {},
   "outputs": [],
   "source": [
    "import pandas as pd\n",
    "from sklearn.model_selection import train_test_split"
   ]
  },
  {
   "cell_type": "code",
   "execution_count": 2,
   "metadata": {},
   "outputs": [],
   "source": [
    "df = pd.read_csv('../data-new/data-selected-features.csv')"
   ]
  },
  {
   "cell_type": "code",
   "execution_count": 3,
   "metadata": {},
   "outputs": [
    {
     "data": {
      "text/html": [
       "<div>\n",
       "<style scoped>\n",
       "    .dataframe tbody tr th:only-of-type {\n",
       "        vertical-align: middle;\n",
       "    }\n",
       "\n",
       "    .dataframe tbody tr th {\n",
       "        vertical-align: top;\n",
       "    }\n",
       "\n",
       "    .dataframe thead th {\n",
       "        text-align: right;\n",
       "    }\n",
       "</style>\n",
       "<table border=\"1\" class=\"dataframe\">\n",
       "  <thead>\n",
       "    <tr style=\"text-align: right;\">\n",
       "      <th></th>\n",
       "      <th>I RENAL AGUDA</th>\n",
       "      <th>NUMERO VASOS</th>\n",
       "      <th>SANGRADO MAYOR*</th>\n",
       "      <th>FUNCION VENTRICULAR IZQ</th>\n",
       "      <th>CRM</th>\n",
       "      <th>CREAT</th>\n",
       "      <th>KILLIP Ingreso</th>\n",
       "      <th>GB</th>\n",
       "      <th>Peor KILLIP</th>\n",
       "      <th>INOTROPICOS</th>\n",
       "      <th>TAS INGRESO</th>\n",
       "      <th>GLUCEMIA INGR</th>\n",
       "      <th>MUERTE HOSP</th>\n",
       "    </tr>\n",
       "  </thead>\n",
       "  <tbody>\n",
       "    <tr>\n",
       "      <th>0</th>\n",
       "      <td>0.0</td>\n",
       "      <td>2.0</td>\n",
       "      <td>0.0</td>\n",
       "      <td>1.0</td>\n",
       "      <td>1.0</td>\n",
       "      <td>0.58</td>\n",
       "      <td>1</td>\n",
       "      <td>8920.0</td>\n",
       "      <td>1</td>\n",
       "      <td>0.0</td>\n",
       "      <td>120.0</td>\n",
       "      <td>160.0</td>\n",
       "      <td>0</td>\n",
       "    </tr>\n",
       "    <tr>\n",
       "      <th>1</th>\n",
       "      <td>0.0</td>\n",
       "      <td>0.0</td>\n",
       "      <td>0.0</td>\n",
       "      <td>2.0</td>\n",
       "      <td>0.0</td>\n",
       "      <td>1.06</td>\n",
       "      <td>1</td>\n",
       "      <td>10340.0</td>\n",
       "      <td>1</td>\n",
       "      <td>0.0</td>\n",
       "      <td>140.0</td>\n",
       "      <td>131.0</td>\n",
       "      <td>0</td>\n",
       "    </tr>\n",
       "    <tr>\n",
       "      <th>2</th>\n",
       "      <td>0.0</td>\n",
       "      <td>1.0</td>\n",
       "      <td>0.0</td>\n",
       "      <td>1.0</td>\n",
       "      <td>0.0</td>\n",
       "      <td>0.83</td>\n",
       "      <td>1</td>\n",
       "      <td>6780.0</td>\n",
       "      <td>1</td>\n",
       "      <td>0.0</td>\n",
       "      <td>150.0</td>\n",
       "      <td>98.0</td>\n",
       "      <td>0</td>\n",
       "    </tr>\n",
       "    <tr>\n",
       "      <th>3</th>\n",
       "      <td>0.0</td>\n",
       "      <td>1.0</td>\n",
       "      <td>0.0</td>\n",
       "      <td>1.0</td>\n",
       "      <td>0.0</td>\n",
       "      <td>1.06</td>\n",
       "      <td>1</td>\n",
       "      <td>5830.0</td>\n",
       "      <td>1</td>\n",
       "      <td>0.0</td>\n",
       "      <td>120.0</td>\n",
       "      <td>106.0</td>\n",
       "      <td>0</td>\n",
       "    </tr>\n",
       "    <tr>\n",
       "      <th>4</th>\n",
       "      <td>0.0</td>\n",
       "      <td>1.0</td>\n",
       "      <td>0.0</td>\n",
       "      <td>1.0</td>\n",
       "      <td>0.0</td>\n",
       "      <td>0.85</td>\n",
       "      <td>1</td>\n",
       "      <td>14990.0</td>\n",
       "      <td>1</td>\n",
       "      <td>0.0</td>\n",
       "      <td>120.0</td>\n",
       "      <td>110.0</td>\n",
       "      <td>0</td>\n",
       "    </tr>\n",
       "  </tbody>\n",
       "</table>\n",
       "</div>"
      ],
      "text/plain": [
       "   I RENAL AGUDA  NUMERO VASOS  SANGRADO MAYOR*  FUNCION VENTRICULAR IZQ  CRM  \\\n",
       "0            0.0           2.0              0.0                      1.0  1.0   \n",
       "1            0.0           0.0              0.0                      2.0  0.0   \n",
       "2            0.0           1.0              0.0                      1.0  0.0   \n",
       "3            0.0           1.0              0.0                      1.0  0.0   \n",
       "4            0.0           1.0              0.0                      1.0  0.0   \n",
       "\n",
       "   CREAT  KILLIP Ingreso       GB  Peor KILLIP  INOTROPICOS  TAS INGRESO  \\\n",
       "0   0.58               1   8920.0            1          0.0        120.0   \n",
       "1   1.06               1  10340.0            1          0.0        140.0   \n",
       "2   0.83               1   6780.0            1          0.0        150.0   \n",
       "3   1.06               1   5830.0            1          0.0        120.0   \n",
       "4   0.85               1  14990.0            1          0.0        120.0   \n",
       "\n",
       "   GLUCEMIA INGR  MUERTE HOSP  \n",
       "0          160.0            0  \n",
       "1          131.0            0  \n",
       "2           98.0            0  \n",
       "3          106.0            0  \n",
       "4          110.0            0  "
      ]
     },
     "execution_count": 3,
     "metadata": {},
     "output_type": "execute_result"
    }
   ],
   "source": [
    "df.head()"
   ]
  },
  {
   "cell_type": "code",
   "execution_count": 4,
   "metadata": {},
   "outputs": [],
   "source": [
    "target = 'MUERTE HOSP'"
   ]
  },
  {
   "cell_type": "markdown",
   "metadata": {},
   "source": [
    "Vamos a hacer el split en train, validation y test. El porcentaje sera del 70% para train, 15% para validation y 15% para test. Esto nos deja con suficientes datos para entrenar y validar nuestros modelos.\n",
    "\n",
    "El resultado de este split va a ser 6 archivos. Dos archivos para train y test con X e y. Dos archivos para validation y test con X e y."
   ]
  },
  {
   "cell_type": "code",
   "execution_count": 5,
   "metadata": {},
   "outputs": [],
   "source": [
    "X = df.drop(columns=target)\n",
    "y = df[[target]]\n",
    "\n",
    "# First split: separate test set (15%)\n",
    "X_temp, X_test, y_temp, y_test = train_test_split(\n",
    "    X, y, \n",
    "    test_size=0.15,\n",
    "    random_state=42,\n",
    "    stratify=y\n",
    ")\n",
    "\n",
    "# Second split: from remaining 85%, get 70/15 ratio\n",
    "# To get 70% total from the 85% remaining, we need test_size = 15/85 ≈ 0.176\n",
    "X_train, X_val, y_train, y_val = train_test_split(\n",
    "    X_temp, y_temp,\n",
    "    test_size=(15/85),  # This ensures we get 15% of total from the remaining 85%\n",
    "    random_state=42,\n",
    "    stratify=y_temp\n",
    ")"
   ]
  },
  {
   "cell_type": "code",
   "execution_count": 6,
   "metadata": {},
   "outputs": [
    {
     "name": "stdout",
     "output_type": "stream",
     "text": [
      "Total samples: 1818\n",
      "Training samples: 1272 (70.0%)\n",
      "Validation samples: 273 (15.0%)\n",
      "Test samples: 273 (15.0%)\n"
     ]
    }
   ],
   "source": [
    "# Verify the proportions\n",
    "total_samples = len(X)\n",
    "print(f\"Total samples: {total_samples}\")\n",
    "print(f\"Training samples: {len(X_train)} ({len(X_train)/total_samples:.1%})\")\n",
    "print(f\"Validation samples: {len(X_val)} ({len(X_val)/total_samples:.1%})\")\n",
    "print(f\"Test samples: {len(X_test)} ({len(X_test)/total_samples:.1%})\")"
   ]
  },
  {
   "cell_type": "code",
   "execution_count": 7,
   "metadata": {},
   "outputs": [
    {
     "name": "stdout",
     "output_type": "stream",
     "text": [
      "Duplicados en X_train: 0\n",
      "Duplicados en X_val: 0\n",
      "Duplicados en X_test: 0\n"
     ]
    }
   ],
   "source": [
    "# Ver duplicados dentro de cada conjunto\n",
    "print(f\"Duplicados en X_train: {X_train.duplicated().sum()}\")\n",
    "print(f\"Duplicados en X_val: {X_val.duplicated().sum()}\")\n",
    "print(f\"Duplicados en X_test: {X_test.duplicated().sum()}\")\n"
   ]
  },
  {
   "cell_type": "code",
   "execution_count": 8,
   "metadata": {},
   "outputs": [
    {
     "name": "stdout",
     "output_type": "stream",
     "text": [
      "(1272, 12)\n",
      "(273, 12)\n",
      "(273, 12)\n",
      "(1272, 1)\n",
      "(273, 1)\n",
      "(273, 1)\n"
     ]
    }
   ],
   "source": [
    "print(X_train.shape)\n",
    "print(X_val.shape)\n",
    "print(X_test.shape)\n",
    "print(y_train.shape)\n",
    "print(y_val.shape)\n",
    "print(y_test.shape)"
   ]
  },
  {
   "cell_type": "code",
   "execution_count": 9,
   "metadata": {},
   "outputs": [
    {
     "name": "stdout",
     "output_type": "stream",
     "text": [
      "New X_train shape: (1272, 12), y_train shape: (1272, 1)\n",
      "New X_val shape: (112, 12), y_val shape: (112, 1)\n",
      "New X_test shape: (98, 12), y_test shape: (98, 1)\n"
     ]
    }
   ],
   "source": [
    "# Remove duplicates between X_train and X_val, and drop from y_val accordingly\n",
    "mask_val = ~X_val.isin(X_train.to_dict(orient='list')).all(axis=1)\n",
    "X_val = X_val[mask_val]\n",
    "y_val = y_val[mask_val]\n",
    "\n",
    "# Remove duplicates between X_train and X_test, and drop from y_test accordingly\n",
    "mask_test_train = ~X_test.isin(X_train.to_dict(orient='list')).all(axis=1)\n",
    "X_test = X_test[mask_test_train]\n",
    "y_test = y_test[mask_test_train]\n",
    "\n",
    "# Remove duplicates between X_val and X_test, and drop from y_test accordingly\n",
    "mask_test_val = ~X_test.isin(X_val.to_dict(orient='list')).all(axis=1)\n",
    "X_test = X_test[mask_test_val]\n",
    "y_test = y_test[mask_test_val]\n",
    "\n",
    "# Ensure no internal duplicates in each set\n",
    "X_train, y_train = X_train.drop_duplicates(), y_train.loc[X_train.index]\n",
    "X_val, y_val = X_val.drop_duplicates(), y_val.loc[X_val.index]\n",
    "X_test, y_test = X_test.drop_duplicates(), y_test.loc[X_test.index]\n",
    "\n",
    "# Print final dataset shapes\n",
    "print(f\"New X_train shape: {X_train.shape}, y_train shape: {y_train.shape}\")\n",
    "print(f\"New X_val shape: {X_val.shape}, y_val shape: {y_val.shape}\")\n",
    "print(f\"New X_test shape: {X_test.shape}, y_test shape: {y_test.shape}\")\n"
   ]
  },
  {
   "cell_type": "code",
   "execution_count": 11,
   "metadata": {},
   "outputs": [],
   "source": [
    "# Save the splits\n",
    "X_train.to_csv(\"../data-new/train/X_train.csv\", index=False)\n",
    "X_val.to_csv(\"../data-new/val/X_val.csv\", index=False)\n",
    "X_test.to_csv(\"../data-new/test/X_test.csv\", index=False)\n",
    "\n",
    "y_train.to_csv(\"../data-new/train/y_train.csv\", index=False)\n",
    "y_val.to_csv(\"../data-new/val/y_val.csv\", index=False)\n",
    "y_test.to_csv(\"../data-new/test/y_test.csv\", index=False)"
   ]
  }
 ],
 "metadata": {
  "kernelspec": {
   "display_name": "venv",
   "language": "python",
   "name": "python3"
  },
  "language_info": {
   "codemirror_mode": {
    "name": "ipython",
    "version": 3
   },
   "file_extension": ".py",
   "mimetype": "text/x-python",
   "name": "python",
   "nbconvert_exporter": "python",
   "pygments_lexer": "ipython3",
   "version": "3.11.5"
  }
 },
 "nbformat": 4,
 "nbformat_minor": 2
}
