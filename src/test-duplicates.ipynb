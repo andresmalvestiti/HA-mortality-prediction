{
 "cells": [
  {
   "cell_type": "code",
   "execution_count": 20,
   "metadata": {},
   "outputs": [
    {
     "name": "stdout",
     "output_type": "stream",
     "text": [
      "No se encontraron filas duplicadas entre los sets de entrenamiento y prueba.\n"
     ]
    }
   ],
   "source": [
    "import pandas as pd\n",
    "\n",
    "# Cargar los archivos CSV\n",
    "X_train = pd.read_csv('../data/sca_X_train.csv')\n",
    "X_test = pd.read_csv('../data/sca_X_test.csv')\n",
    "\n",
    "# Buscar filas comunes entre X_train y X_test\n",
    "duplicados = pd.merge(X_train, X_test, how='inner')\n",
    "\n",
    "# Mostrar las filas duplicadas, si existen\n",
    "if not duplicados.empty:\n",
    "    print(f\"Se encontraron {len(duplicados)} filas duplicadas entre los sets de entrenamiento y prueba:\")\n",
    "    print(duplicados)\n",
    "else:\n",
    "    print(\"No se encontraron filas duplicadas entre los sets de entrenamiento y prueba.\")\n",
    "\n"
   ]
  },
  {
   "cell_type": "code",
   "execution_count": 21,
   "metadata": {},
   "outputs": [
    {
     "name": "stdout",
     "output_type": "stream",
     "text": [
      "No se encontraron filas duplicadas entre los sets de entrenamiento y prueba.\n"
     ]
    }
   ],
   "source": [
    "# Concatenar los dos DataFrames\n",
    "concat_df = pd.concat([X_train, X_test])\n",
    "\n",
    "# Buscar filas duplicadas en el DataFrame concatenado\n",
    "duplicados = concat_df[concat_df.duplicated(keep=False)]\n",
    "\n",
    "# Mostrar las filas duplicadas, si existen\n",
    "if not duplicados.empty:\n",
    "    print(f\"Se encontraron {len(duplicados)} filas duplicadas entre los sets de entrenamiento y prueba:\")\n",
    "    print(duplicados)\n",
    "else:\n",
    "    print(\"No se encontraron filas duplicadas entre los sets de entrenamiento y prueba.\")\n"
   ]
  }
 ],
 "metadata": {
  "kernelspec": {
   "display_name": "venv",
   "language": "python",
   "name": "python3"
  },
  "language_info": {
   "codemirror_mode": {
    "name": "ipython",
    "version": 3
   },
   "file_extension": ".py",
   "mimetype": "text/x-python",
   "name": "python",
   "nbconvert_exporter": "python",
   "pygments_lexer": "ipython3",
   "version": "3.11.5"
  }
 },
 "nbformat": 4,
 "nbformat_minor": 2
}
