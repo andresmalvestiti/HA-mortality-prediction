{
 "cells": [
  {
   "cell_type": "code",
   "execution_count": 1,
   "metadata": {},
   "outputs": [],
   "source": [
    "import numpy as np\n",
    "import pandas as pd\n",
    "import seaborn as sns\n",
    "import matplotlib.pyplot as plt\n",
    "\n",
    "DATASET_PATH = '../data-new/data-without-troponina.csv'\n",
    "df = pd.read_csv(DATASET_PATH)"
   ]
  },
  {
   "cell_type": "code",
   "execution_count": 1,
   "metadata": {},
   "outputs": [],
   "source": [
    "# Asumptions\n",
    "NUMERICAL_FEATURES = ['EDAD','PESO Kg', 'ALTURA cm', 'CREAT', 'GLUCEMIA INGR', 'GB', 'TAS INGRESO', 'FC INGRESO']\n",
    "NUMERICAL_CONTINOUS = NUMERICAL_FEATURES\n",
    "\n",
    "CATEGORICAL_MULTI_CLASS_FEATURES = ['KILLIP Ingreso', 'FUNCION VENTRICULAR IZQ', 'DIAGNOSTICO', 'NUMERO VASOS', 'Peor KILLIP']\n",
    "CATEGORICAL_BINARY_FEATURES = ['NUMERO VASOS', 'SEX0', 'HTA', 'DBT', 'DLP', 'TABAQ', 'ANTEC IAM / Angina inestable', 'ANTEC BY PASS', 'ANTEC ATC', 'ANTEC ACE', 'ANTEC INS RENAL', 'ACV TIA PREV', 'EPOC', 'CLAUD ITTE', 'BB PREV', ' IECA/AT2  PREV', 'B CA PREV', 'AAS PREV', 'HIPOGLUCEMIANTES', 'DIURETICOS', 'INSULINA', 'ECG INFRA ST', 'ECG SUPRA ST', 'ECG INV T', 'BRI', 'BRD', 'ECG MCP', 'ECG FA', 'tropst', 'TnT Ultrasensible', 'Elevacion troponina T', 'AAS', 'BB', 'IECA', 'AT2', 'Clopi - prasu - tica', 'HEP sc o iv', 'IIb IIIa', 'B CA', 'ESTATINAS', 'HIPOGLUC METFORM', 'HIPOGL SULFAN', 'HIPOGL GLITAZ', 'INSULINA', 'INS + HIPOGL', 'INOTROPICOS', 'PRUEBA FUNC.', 'PRUEBA FUNC DE ALTO RIESGO', 'CCG', 'TRONCO', 'ATC PRIMARIA', 'ATC INTRAHOSP', 'TROMBOL', 'CRM', 'IAM HOSP(SI INTERNO POR ANGINA) O REIAM', 'APIAM', 'ANGINA REFRACT o RECURR', ' ACV/TIA', 'SANGRADO MAYOR*', 'I RENAL AGUDA']\n",
    "\n",
    "CATEGORY_FEATURES = CATEGORICAL_BINARY_FEATURES + CATEGORICAL_MULTI_CLASS_FEATURES\n",
    "\n",
    "FEATURES = NUMERICAL_CONTINOUS + CATEGORY_FEATURES\n",
    "\n",
    "TARGET = \"MUERTE HOSP\""
   ]
  },
  {
   "cell_type": "code",
   "execution_count": 3,
   "metadata": {},
   "outputs": [
    {
     "data": {
      "text/plain": [
       "73"
      ]
     },
     "execution_count": 3,
     "metadata": {},
     "output_type": "execute_result"
    }
   ],
   "source": [
    "len(FEATURES)"
   ]
  },
  {
   "cell_type": "markdown",
   "metadata": {},
   "source": [
    "Vamos a hacer una selección de features basado en la importancia de las features.\n",
    "\n",
    "Para ello, vamos a implementar Información Mutua (MI). La información mutua mide la dependencia no lineal entre las variables independientes (features) y la variable objetivo. Se basa en la teoría de la información y cuantifica cuánto conocimiento sobre la variable objetivo se obtiene al conocer una característica específica.\n"
   ]
  },
  {
   "cell_type": "markdown",
   "metadata": {},
   "source": [
    "Primero hacemos una imputacion de los valores faltantes provisoria para poder calcular la información mutua."
   ]
  },
  {
   "cell_type": "code",
   "execution_count": 3,
   "metadata": {},
   "outputs": [],
   "source": [
    "from sklearn.impute import SimpleImputer\n",
    "\n",
    "df_copy = df.copy()\n",
    "\n",
    "median_imputer = SimpleImputer(strategy='median')\n",
    "mode_imputer = SimpleImputer(strategy='most_frequent')\n",
    "\n",
    "median_imputer.fit(df_copy[NUMERICAL_FEATURES])\n",
    "mode_imputer.fit(df_copy[CATEGORY_FEATURES])\n",
    "\n",
    "df_copy[NUMERICAL_FEATURES] = median_imputer.transform(df_copy[NUMERICAL_FEATURES])\n",
    "df_copy[CATEGORY_FEATURES] = mode_imputer.transform(df_copy[CATEGORY_FEATURES])\n"
   ]
  },
  {
   "cell_type": "code",
   "execution_count": 4,
   "metadata": {},
   "outputs": [],
   "source": [
    "# Separar variables independientes (X) y variable objetivo (y)\n",
    "X = df_copy[FEATURES]  # Variables predictoras\n",
    "y = df_copy[TARGET]  # Variable objetivo"
   ]
  },
  {
   "cell_type": "code",
   "execution_count": 5,
   "metadata": {},
   "outputs": [
    {
     "name": "stdout",
     "output_type": "stream",
     "text": [
      "Importancia de Información Mutua:\n",
      "INOTROPICOS                0.033373\n",
      "KILLIP Ingreso             0.030335\n",
      "I RENAL AGUDA              0.023975\n",
      "Peor KILLIP                0.020337\n",
      "FUNCION VENTRICULAR IZQ    0.018713\n",
      "                             ...   \n",
      "HEP sc o iv                0.000000\n",
      "B CA                       0.000000\n",
      "ESTATINAS                  0.000000\n",
      "HIPOGLUC METFORM           0.000000\n",
      "tropst                     0.000000\n",
      "Length: 73, dtype: float64\n"
     ]
    }
   ],
   "source": [
    "from sklearn.feature_selection import mutual_info_classif\n",
    "\n",
    "# Calcular Información Mutua\n",
    "mi_scores = mutual_info_classif(X, y, random_state=42)\n",
    "mi_scores = pd.Series(mi_scores, index=X.columns)\n",
    "\n",
    "# Mostrar la importancia de cada variable\n",
    "print(\"Importancia de Información Mutua:\")\n",
    "print(mi_scores.sort_values(ascending=False))"
   ]
  },
  {
   "cell_type": "code",
   "execution_count": 6,
   "metadata": {},
   "outputs": [
    {
     "name": "stdout",
     "output_type": "stream",
     "text": [
      "INOTROPICOS                0.033373\n",
      "KILLIP Ingreso             0.030335\n",
      "I RENAL AGUDA              0.023975\n",
      "Peor KILLIP                0.020337\n",
      "FUNCION VENTRICULAR IZQ    0.018713\n",
      "TAS INGRESO                0.017224\n",
      "GLUCEMIA INGR              0.016233\n",
      "CREAT                      0.016123\n",
      "GB                         0.014049\n",
      "DIURETICOS                 0.012903\n",
      "CRM                        0.012531\n",
      "NUMERO VASOS               0.012410\n",
      "SANGRADO MAYOR*            0.011180\n",
      "ANGINA REFRACT o RECURR    0.010444\n",
      "dtype: float64\n"
     ]
    }
   ],
   "source": [
    "# Seleccionar variables con Información Mutua mayor a 0.01\n",
    "selected_mi_mask = mi_scores.apply(lambda x: x > 0.01)\n",
    "selected_mi = mi_scores[selected_mi_mask]\n",
    "print(selected_mi.sort_values(ascending=False))\n"
   ]
  },
  {
   "cell_type": "code",
   "execution_count": 7,
   "metadata": {},
   "outputs": [
    {
     "name": "stdout",
     "output_type": "stream",
     "text": [
      "Variables seleccionadas por Random Forest:\n",
      " INOTROPICOS                                0.069633\n",
      "TAS INGRESO                                0.062337\n",
      "I RENAL AGUDA                              0.060307\n",
      "GB                                         0.058136\n",
      "CREAT                                      0.057678\n",
      "GLUCEMIA INGR                              0.052957\n",
      "KILLIP Ingreso                             0.043440\n",
      "FC INGRESO                                 0.042813\n",
      "Peor KILLIP                                0.038906\n",
      "EDAD                                       0.038835\n",
      "PESO Kg                                    0.036603\n",
      "ALTURA cm                                  0.031199\n",
      "BB                                         0.027895\n",
      "SANGRADO MAYOR*                            0.019945\n",
      "FUNCION VENTRICULAR IZQ                    0.019536\n",
      "ECG SUPRA ST                               0.017681\n",
      "CRM                                        0.017514\n",
      "IAM HOSP(SI INTERNO POR ANGINA) O REIAM    0.016886\n",
      "NUMERO VASOS                               0.013411\n",
      "TRONCO                                     0.012279\n",
      "NUMERO VASOS                               0.011173\n",
      "ANTEC INS RENAL                            0.011101\n",
      "TABAQ                                      0.010652\n",
      "dtype: float64\n"
     ]
    }
   ],
   "source": [
    "from sklearn.ensemble import RandomForestClassifier\n",
    "\n",
    "# Entrenar un modelo Random Forest para evaluar importancia de características\n",
    "model_rf = RandomForestClassifier(n_estimators=100, random_state=42)\n",
    "model_rf.fit(X, y)\n",
    "\n",
    "# Obtener importancia de variables\n",
    "rf_importances = pd.Series(model_rf.feature_importances_, index=X.columns)\n",
    "\n",
    "# Seleccionar las variables más importantes\n",
    "selected_rf_mask = rf_importances.apply(lambda x: x > 0.01)\n",
    "selected_rf = rf_importances[selected_rf_mask]\n",
    "print(\"Variables seleccionadas por Random Forest:\\n\", selected_rf.sort_values(ascending=False))\n"
   ]
  },
  {
   "cell_type": "code",
   "execution_count": 8,
   "metadata": {},
   "outputs": [
    {
     "name": "stdout",
     "output_type": "stream",
     "text": [
      "Variables seleccionadas por TODOS los métodos:\n",
      " ['SANGRADO MAYOR*', 'I RENAL AGUDA', 'GB', 'FUNCION VENTRICULAR IZQ', 'TAS INGRESO', 'Peor KILLIP', 'CREAT', 'INOTROPICOS', 'CRM', 'GLUCEMIA INGR', 'KILLIP Ingreso', 'NUMERO VASOS']\n"
     ]
    }
   ],
   "source": [
    "# Crear sets de características seleccionadas por cada método\n",
    "features_mi = set(selected_mi.index)\n",
    "features_rf = set(selected_rf.index)\n",
    "\n",
    "# Comparar intersección (variables seleccionadas por varios métodos)\n",
    "intersect_features = features_mi & features_rf\n",
    "print(\"Variables seleccionadas por TODOS los métodos:\\n\", list(intersect_features))\n"
   ]
  },
  {
   "cell_type": "markdown",
   "metadata": {},
   "source": [
    "Finalmente, vamos a seleccionar las variables que están en la intersección de los dos métodos.\n"
   ]
  },
  {
   "cell_type": "code",
   "execution_count": 9,
   "metadata": {},
   "outputs": [
    {
     "name": "stdout",
     "output_type": "stream",
     "text": [
      "Variables seleccionadas:\n",
      " ['SANGRADO MAYOR*', 'I RENAL AGUDA', 'GB', 'FUNCION VENTRICULAR IZQ', 'TAS INGRESO', 'Peor KILLIP', 'CREAT', 'INOTROPICOS', 'CRM', 'GLUCEMIA INGR', 'KILLIP Ingreso', 'NUMERO VASOS']\n"
     ]
    }
   ],
   "source": [
    "selected_features = list(intersect_features)\n",
    "print(\"Variables seleccionadas:\\n\", selected_features)\n",
    "\n",
    "df_selected = df[selected_features + [TARGET]]"
   ]
  },
  {
   "cell_type": "code",
   "execution_count": 10,
   "metadata": {},
   "outputs": [
    {
     "name": "stdout",
     "output_type": "stream",
     "text": [
      "<class 'pandas.core.frame.DataFrame'>\n",
      "RangeIndex: 1818 entries, 0 to 1817\n",
      "Data columns (total 13 columns):\n",
      " #   Column                   Non-Null Count  Dtype  \n",
      "---  ------                   --------------  -----  \n",
      " 0   SANGRADO MAYOR*          1814 non-null   float64\n",
      " 1   I RENAL AGUDA            1816 non-null   float64\n",
      " 2   GB                       1752 non-null   float64\n",
      " 3   FUNCION VENTRICULAR IZQ  1810 non-null   float64\n",
      " 4   TAS INGRESO              1806 non-null   float64\n",
      " 5   Peor KILLIP              1818 non-null   int64  \n",
      " 6   CREAT                    1808 non-null   float64\n",
      " 7   INOTROPICOS              1800 non-null   float64\n",
      " 8   CRM                      1815 non-null   float64\n",
      " 9   GLUCEMIA INGR            1735 non-null   float64\n",
      " 10  KILLIP Ingreso           1818 non-null   int64  \n",
      " 11  NUMERO VASOS             1816 non-null   float64\n",
      " 12  MUERTE HOSP              1818 non-null   int64  \n",
      "dtypes: float64(10), int64(3)\n",
      "memory usage: 184.8 KB\n"
     ]
    }
   ],
   "source": [
    "df_selected.info()"
   ]
  },
  {
   "cell_type": "code",
   "execution_count": 11,
   "metadata": {},
   "outputs": [
    {
     "name": "stdout",
     "output_type": "stream",
     "text": [
      "SANGRADO MAYOR* NaNs: 4 - 0.22002200220022003%\n",
      "I RENAL AGUDA NaNs: 2 - 0.11001100110011001%\n",
      "GB NaNs: 66 - 3.6303630363036303%\n",
      "FUNCION VENTRICULAR IZQ NaNs: 8 - 0.44004400440044006%\n",
      "TAS INGRESO NaNs: 12 - 0.6600660066006601%\n",
      "Peor KILLIP NaNs: 0 - 0.0%\n",
      "CREAT NaNs: 10 - 0.5500550055005501%\n",
      "INOTROPICOS NaNs: 18 - 0.9900990099009901%\n",
      "CRM NaNs: 3 - 0.16501650165016502%\n",
      "GLUCEMIA INGR NaNs: 83 - 4.565456545654565%\n",
      "KILLIP Ingreso NaNs: 0 - 0.0%\n",
      "NUMERO VASOS NaNs: 2 - 0.11001100110011001%\n",
      "MUERTE HOSP NaNs: 0 - 0.0%\n"
     ]
    }
   ],
   "source": [
    "from utils import print_column_with_nan\n",
    "print_column_with_nan(df_selected)"
   ]
  },
  {
   "cell_type": "code",
   "execution_count": 13,
   "metadata": {},
   "outputs": [],
   "source": [
    "df_selected.to_csv('../data-new/data-selected-features.csv', index=False)"
   ]
  }
 ],
 "metadata": {
  "kernelspec": {
   "display_name": "venv",
   "language": "python",
   "name": "python3"
  },
  "language_info": {
   "codemirror_mode": {
    "name": "ipython",
    "version": 3
   },
   "file_extension": ".py",
   "mimetype": "text/x-python",
   "name": "python",
   "nbconvert_exporter": "python",
   "pygments_lexer": "ipython3",
   "version": "3.11.5"
  }
 },
 "nbformat": 4,
 "nbformat_minor": 2
}
